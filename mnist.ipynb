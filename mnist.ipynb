{
 "cells": [
  {
   "cell_type": "code",
   "execution_count": 1,
   "metadata": {},
   "outputs": [
    {
     "name": "stdout",
     "output_type": "stream",
     "text": [
      "Extracting MNIST_data/train-images-idx3-ubyte.gz\n",
      "Extracting MNIST_data/train-labels-idx1-ubyte.gz\n",
      "Extracting MNIST_data/t10k-images-idx3-ubyte.gz\n",
      "Extracting MNIST_data/t10k-labels-idx1-ubyte.gz\n"
     ]
    }
   ],
   "source": [
    "# Basic imports for libraries and the mnist data\n",
    "import tensorflow as tf\n",
    "import matplotlib.pyplot as plt\n",
    "import numpy as np\n",
    "from tensorflow.examples.tutorials.mnist import input_data as mnist_data\n",
    "\n",
    "tf.set_random_seed(0)\n",
    "\n",
    "# Download images and labels into mnist.test (10K images+labels) and mnist.train (60K images+labels)\n",
    "mnist = mnist_data.read_data_sets('MNIST_data', one_hot=True)"
   ]
  },
  {
   "cell_type": "code",
   "execution_count": 2,
   "metadata": {
    "scrolled": true
   },
   "outputs": [
    {
     "name": "stdout",
     "output_type": "stream",
     "text": [
      "(55000, 784)\n",
      "(55000, 10)\n"
     ]
    },
    {
     "data": {
      "image/png": "[encoded data removed]",
      "text/plain": [
       "<matplotlib.figure.Figure at 0x11349d6d8>"
      ]
     },
     "metadata": {},
     "output_type": "display_data"
    },
    {
     "name": "stdout",
     "output_type": "stream",
     "text": [
      "y = [ 0.  0.  0.  1.  0.  0.  0.  0.  0.  0.]\n"
     ]
    }
   ],
   "source": [
    "# Visualize the original data\n",
    "index = 1\n",
    "print(mnist.train.images.shape)\n",
    "print(mnist.train.labels.shape)\n",
    "\n",
    "plt.imshow(mnist.train.images[index, :].reshape(28, 28))\n",
    "plt.show()\n",
    "print (\"y = \" + str(mnist.train.labels[index, :]))"
   ]
  },
  {
   "cell_type": "code",
   "execution_count": 3,
   "metadata": {},
   "outputs": [],
   "source": [
    "input_dimension = 784\n",
    "output_dimension = 10"
   ]
  },
  {
   "cell_type": "code",
   "execution_count": 4,
   "metadata": {},
   "outputs": [],
   "source": [
    "def build_network(x):\n",
    "    \"\"\"Build the MNIST model with 2 hidden layers and one linear layer.\n",
    "    params: \n",
    "        x: input placeholder\n",
    "    Returns: \n",
    "        Output tensor with the computed logits\n",
    "    \"\"\"\n",
    "    # define number of neurons per layer\n",
    "    l1_units = 30\n",
    "    l2_units = 15\n",
    "    l3_units = 10\n",
    "    \n",
    "    # Hidden 1\n",
    "    with tf.variable_scope(\"layer2\"):\n",
    "        w1 = tf.get_variable(\"w1\",[input_dimension, l1_units], initializer = tf.contrib.layers.xavier_initializer(seed = 1))\n",
    "        b1 = tf.Variable(tf.zeros([l1_units]), name=\"b1\")\n",
    "        z1 = tf.matmul(x, w1) + b1\n",
    "        y1 = tf.nn.relu(z1)\n",
    "    \n",
    "    # Hidden 2\n",
    "    with tf.variable_scope(\"layer2\"):\n",
    "        w2 = tf.get_variable(\"w\",[l1_units, l2_units], initializer = tf.contrib.layers.xavier_initializer(seed = 1))\n",
    "        b2 = tf.Variable(tf.zeros([l2_units]), name=\"b2\")\n",
    "        z2 = tf.matmul(y1, w2) + b2\n",
    "        y2 = tf.nn.relu(z2)\n",
    "   \n",
    "    # softmax\n",
    "    with tf.variable_scope(\"layer3\"):\n",
    "        w3 = tf.get_variable(\"w3\",[l2_units, l3_units], initializer = tf.contrib.layers.xavier_initializer(seed = 1))\n",
    "        b3 = tf.Variable(tf.zeros([l3_units]), name=\"b3\")\n",
    "        z3 = tf.matmul(y2, w3) + b3\n",
    "        y_ = tf.nn.softmax(z3)\n",
    "  \n",
    "    return z3, y_ # logits and probilities\n"
   ]
  },
  {
   "cell_type": "code",
   "execution_count": 5,
   "metadata": {},
   "outputs": [],
   "source": [
    "def calc_loss(z3, y):\n",
    "    \"\"\"Calculates the loss from the logits and the labels.\n",
    "    params:\n",
    "        z3: logits for output tensor from build_network\n",
    "        y: labeled data indicating the numeric value of the picture, [None, 10]\n",
    "    \"\"\"\n",
    "    cross_entropy = tf.nn.softmax_cross_entropy_with_logits(logits=z3, labels=y)\n",
    "    cross_entropy = tf.reduce_mean(cross_entropy)\n",
    "    return cross_entropy"
   ]
  },
  {
   "cell_type": "code",
   "execution_count": 6,
   "metadata": {},
   "outputs": [],
   "source": [
    "def training(loss, learning_rate):\n",
    "    \"\"\"Sets up the training Ops.\n",
    "    params:\n",
    "        loss: cross entropy loss\n",
    "        learning_rate\n",
    "    \"\"\"\n",
    "    beta1=0.9\n",
    "    beta2=0.999\n",
    "    epsilon=1e-08\n",
    "    \n",
    "    optimizer = tf.train.AdamOptimizer(learning_rate, beta1=beta1, beta2=beta2, epsilon=epsilon)\n",
    "    train_op = optimizer.minimize(loss)\n",
    "    return train_op"
   ]
  },
  {
   "cell_type": "code",
   "execution_count": 7,
   "metadata": {},
   "outputs": [],
   "source": [
    "def evaluation(y, y_):\n",
    "    \"\"\"Evaluate the quality of the logits at predicting the label.\n",
    "    Returns:\n",
    "    A scalar int32 tensor with the number of examples (out of batch_size)\n",
    "    that were predicted correctly.\n",
    "    \"\"\"\n",
    "    correct_prediction = tf.equal(tf.argmax(y,1), tf.argmax(y_,1))\n",
    "    accuracy = tf.reduce_mean(tf.cast(correct_prediction, tf.float32))\n",
    "    return accuracy"
   ]
  },
  {
   "cell_type": "code",
   "execution_count": 8,
   "metadata": {},
   "outputs": [],
   "source": [
    "# Defining placeholders and compile tensors\n",
    "\n",
    "x = tf.placeholder(tf.float32, [None, input_dimension], name=\"input\")\n",
    "y = tf.placeholder(tf.float32, [None, output_dimension], name=\"labels\")\n",
    "z3, y_ = build_network(x)\n",
    "loss = calc_loss(z3, y)\n",
    "accuracy = evaluation(y, y_)\n",
    "train_op = training(loss, learning_rate=0.01)"
   ]
  },
  {
   "cell_type": "code",
   "execution_count": 9,
   "metadata": {},
   "outputs": [],
   "source": [
    "# Preparing for mini-batching training data\n",
    "def generate_shuffled_train_data():\n",
    "    \"\"\" Shuffle the images and labels in the training set in unison\n",
    "    Return:\n",
    "        shuffled train images and train labels\n",
    "    \"\"\"\n",
    "    assert len(mnist.train.images) == len(mnist.train.labels)\n",
    "    p = np.random.permutation(len(mnist.train.labels))\n",
    "    shuffled_train_images = mnist.train.images[p]\n",
    "    shuffled_train_labels = mnist.train.labels[p]\n",
    "    return shuffled_train_images, shuffled_train_labels"
   ]
  },
  {
   "cell_type": "code",
   "execution_count": 13,
   "metadata": {},
   "outputs": [],
   "source": [
    "def generate_mini_batches(batch_size, train_images, train_labels):\n",
    "    \"\"\" Yield mini batches in tuples from the original dataset with a specified batch size\n",
    "    Params: \n",
    "        batch_size: number of training data in a sample\n",
    "        train_images: all of train images [None, 784] after shuffling\n",
    "        train_labels: all of train labels [None, 10] after shuffling\n",
    "    Return:\n",
    "        A generator yielding each mini batch([batch_num, 784], [batch_num, 10])\n",
    "    Notes:\n",
    "        the last data not divisible by mini-batch is thrown away\n",
    "    \"\"\"\n",
    "    train_image_num = len(train_labels)\n",
    "    for i in range(int(train_image_num / batch_size)):\n",
    "        start_slice_index = i * batch_size\n",
    "        end_slice_index = (i + 1) * batch_size\n",
    "        yield (train_images[start_slice_index:end_slice_index],\n",
    "               train_labels[start_slice_index:end_slice_index])\n",
    "    "
   ]
  },
  {
   "cell_type": "code",
   "execution_count": 14,
   "metadata": {},
   "outputs": [
    {
     "name": "stdout",
     "output_type": "stream",
     "text": [
      "Original accuracy:\n",
      "0.0882\n",
      "After train accuracy:\n",
      "0.999727\n",
      "After test accuracy:\n",
      "0.9598\n"
     ]
    }
   ],
   "source": [
    "# Train MNIST classifer and evaluate the accuracy\n",
    "with tf.Session() as sess:\n",
    "    sess.run(tf.global_variables_initializer())\n",
    "    print(\"Original accuracy:\")\n",
    "    print(sess.run(accuracy, feed_dict={x: mnist.test.images, y: mnist.test.labels}))\n",
    "    \n",
    "    # batch_size_options = [300, 900, 3000, 9000]\n",
    "    batch_size = 3000\n",
    "    for epoch in range(100):\n",
    "        shuffled_train_images, shuffled_train_labels = generate_shuffled_train_data()\n",
    "        for (batch_train_images, batch_train_labels) in \\\n",
    "            generate_mini_batches(batch_size, shuffled_train_images, shuffled_train_labels):\n",
    "            sess.run(train_op, feed_dict={x: batch_train_images, y: batch_train_labels})\n",
    "            \n",
    "    print(\"After train accuracy:\")\n",
    "    print(sess.run(accuracy, feed_dict={x: mnist.train.images, y: mnist.train.labels}))\n",
    "    print(\"After test accuracy:\")\n",
    "    print(sess.run(accuracy, feed_dict={x: mnist.test.images, y: mnist.test.labels}))"
   ]
  },
  {
   "cell_type": "code",
   "execution_count": null,
   "metadata": {},
   "outputs": [],
   "source": []
  },
  {
   "cell_type": "code",
   "execution_count": null,
   "metadata": {},
   "outputs": [],
   "source": []
  }
 ],
 "metadata": {
  "kernelspec": {
   "display_name": "Python 3",
   "language": "python",
   "name": "python3"
  },
  "language_info": {
   "codemirror_mode": {
    "name": "ipython",
    "version": 3
   },
   "file_extension": ".py",
   "mimetype": "text/x-python",
   "name": "python",
   "nbconvert_exporter": "python",
   "pygments_lexer": "ipython3",
   "version": "3.6.1"
  }
 },
 "nbformat": 4,
 "nbformat_minor": 2
}
